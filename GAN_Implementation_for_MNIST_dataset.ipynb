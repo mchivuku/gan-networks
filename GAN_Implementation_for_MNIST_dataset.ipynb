{
  "nbformat": 4,
  "nbformat_minor": 0,
  "metadata": {
    "colab": {
      "name": "GAN Implementation for MNIST dataset.ipynb",
      "version": "0.3.2",
      "provenance": [],
      "include_colab_link": true
    },
    "kernelspec": {
      "name": "python3",
      "display_name": "Python 3"
    },
    "accelerator": "GPU"
  },
  "cells": [
    {
      "cell_type": "markdown",
      "metadata": {
        "id": "view-in-github",
        "colab_type": "text"
      },
      "source": [
        "<a href=\"https://colab.research.google.com/github/mchivuku/gan-networks/blob/master/GAN_Implementation_for_MNIST_dataset.ipynb\" target=\"_parent\"><img src=\"https://colab.research.google.com/assets/colab-badge.svg\" alt=\"Open In Colab\"/></a>"
      ]
    },
    {
      "metadata": {
        "id": "scbgd8cGt5vD",
        "colab_type": "code",
        "colab": {}
      },
      "cell_type": "code",
      "source": [
        "%load_ext autoreload"
      ],
      "execution_count": 0,
      "outputs": []
    },
    {
      "metadata": {
        "id": "H23scsCVuCpl",
        "colab_type": "code",
        "colab": {}
      },
      "cell_type": "code",
      "source": [
        "%matplotlib inline\n"
      ],
      "execution_count": 0,
      "outputs": []
    },
    {
      "metadata": {
        "id": "MPgaLSSBuFWc",
        "colab_type": "code",
        "colab": {}
      },
      "cell_type": "code",
      "source": [
        "%autoreload 2\n"
      ],
      "execution_count": 0,
      "outputs": []
    },
    {
      "metadata": {
        "id": "_whgKVGjwQRQ",
        "colab_type": "text"
      },
      "cell_type": "markdown",
      "source": [
        "**INSTALL PYTORCH and TORCH VISION**\n",
        "\n",
        "https://jovianlin.io/pytorch-with-gpu-in-google-colab/"
      ]
    },
    {
      "metadata": {
        "id": "A_osXghiwbK5",
        "colab_type": "code",
        "colab": {}
      },
      "cell_type": "code",
      "source": [
        "#!pip3 install http://download.pytorch.org/whl/cu80/torch-0.3.0.post4-cp36-cp36m-linux_x86_64.whl \n",
        "#!pip3 install torchvision\n",
        "#!pip3 install tensorboardX\n",
        "#!pip3 install --no-cache-dir -I pillow\n",
        "\n",
        "#!pip3 install Pillow==4.0.0\n",
        "#!pip3 install PIL\n",
        "#!pip3 install image\n",
        "\n"
      ],
      "execution_count": 0,
      "outputs": []
    },
    {
      "metadata": {
        "id": "xelFZVK6xtET",
        "colab_type": "text"
      },
      "cell_type": "markdown",
      "source": [
        "**MOUNTING TO GOOGLE DRIVE**\n",
        "\n",
        "Useful link: https://medium.com/deep-learning-turkey/google-colab-free-gpu-tutorial-e113627b9f5d\n",
        "\n",
        "Testing the mount:\n",
        "\n",
        "!ls \"/content/drive/My Drive/\""
      ]
    },
    {
      "metadata": {
        "id": "W6YgTjLDxsV1",
        "colab_type": "text"
      },
      "cell_type": "markdown",
      "source": [
        "\n",
        "\n",
        "```\n",
        "from google.colab import drive\n",
        "drive.mount('/content/drive/')\n",
        "\n",
        "**Testing mount**\n",
        "!ls \"/content/drive/My Drive/\"\n",
        "```\n",
        "\n"
      ]
    },
    {
      "metadata": {
        "id": "5wdRm3xVwXi5",
        "colab_type": "code",
        "colab": {
          "base_uri": "https://localhost:8080/",
          "height": 122
        },
        "outputId": "5abfa56c-22f0-48ad-9316-5bd88ff0658e"
      },
      "cell_type": "code",
      "source": [
        "from google.colab import drive\n",
        "drive.mount('/content/drive/')"
      ],
      "execution_count": 9,
      "outputs": [
        {
          "output_type": "stream",
          "text": [
            "Go to this URL in a browser: https://accounts.google.com/o/oauth2/auth?client_id=947318989803-6bn6qk8qdgf4n4g3pfee6491hc0brc4i.apps.googleusercontent.com&redirect_uri=urn%3Aietf%3Awg%3Aoauth%3A2.0%3Aoob&scope=email%20https%3A%2F%2Fwww.googleapis.com%2Fauth%2Fdocs.test%20https%3A%2F%2Fwww.googleapis.com%2Fauth%2Fdrive%20https%3A%2F%2Fwww.googleapis.com%2Fauth%2Fdrive.photos.readonly%20https%3A%2F%2Fwww.googleapis.com%2Fauth%2Fpeopleapi.readonly&response_type=code\n",
            "\n",
            "Enter your authorization code:\n",
            "··········\n",
            "Mounted at /content/drive/\n"
          ],
          "name": "stdout"
        }
      ]
    },
    {
      "metadata": {
        "id": "fp-guGa5voE0",
        "colab_type": "code",
        "colab": {}
      },
      "cell_type": "code",
      "source": [
        "#!ls \"/content/drive/My Drive/\""
      ],
      "execution_count": 0,
      "outputs": []
    },
    {
      "metadata": {
        "id": "5uBgKMadvooQ",
        "colab_type": "text"
      },
      "cell_type": "markdown",
      "source": [
        "##IMPORT Libaries"
      ]
    },
    {
      "metadata": {
        "id": "u9u5R35Ku5ds",
        "colab_type": "code",
        "colab": {}
      },
      "cell_type": "code",
      "source": [
        "from IPython import display\n",
        "\n",
        "from utils import Logger\n",
        "\n",
        "import torch\n",
        "from torch import nn, optim\n",
        "from torch.autograd.variable import Variable\n",
        "from torchvision import transforms, datasets"
      ],
      "execution_count": 0,
      "outputs": []
    },
    {
      "metadata": {
        "id": "zKGIogtFzr-r",
        "colab_type": "text"
      },
      "cell_type": "markdown",
      "source": [
        "**LOAD DATA**\n",
        "\n",
        "Root parameter to define where to save the data.\n",
        "\n",
        "Train parameter is set to **true** because we are initializing the MNIST training dataset.\n",
        "\n",
        "The **download parameter is set to true because we want to download** it if it’s not already present in our data folder.\n",
        "\n",
        "The **transform parameter is set to none because we don’t want to apply any image manipulation transforms at this time.**\n",
        "\n"
      ]
    },
    {
      "metadata": {
        "id": "-PtzGjiQzbUt",
        "colab_type": "code",
        "colab": {}
      },
      "cell_type": "code",
      "source": [
        "mnist_trainset = datasets.MNIST(root='./data', train=True, download=True, transform=None)\n",
        "mnist_testset = datasets.MNIST(root='./data', train=False, download=True, transform=None)\n",
        "\n"
      ],
      "execution_count": 0,
      "outputs": []
    },
    {
      "metadata": {
        "id": "pnInFJcnzoka",
        "colab_type": "code",
        "colab": {
          "base_uri": "https://localhost:8080/",
          "height": 34
        },
        "outputId": "959574ff-7e65-4223-81c5-c84476b68954"
      },
      "cell_type": "code",
      "source": [
        "len(mnist_trainset)\n"
      ],
      "execution_count": 16,
      "outputs": [
        {
          "output_type": "execute_result",
          "data": {
            "text/plain": [
              "60000"
            ]
          },
          "metadata": {
            "tags": []
          },
          "execution_count": 16
        }
      ]
    },
    {
      "metadata": {
        "id": "TG6BBkHF2g3b",
        "colab_type": "code",
        "colab": {
          "base_uri": "https://localhost:8080/",
          "height": 34
        },
        "outputId": "bef8069a-6233-4dd5-b8ad-87f63c39a029"
      },
      "cell_type": "code",
      "source": [
        "len(mnist_testset)\n"
      ],
      "execution_count": 17,
      "outputs": [
        {
          "output_type": "execute_result",
          "data": {
            "text/plain": [
              "10000"
            ]
          },
          "metadata": {
            "tags": []
          },
          "execution_count": 17
        }
      ]
    },
    {
      "metadata": {
        "id": "nL9KKBZE2w2m",
        "colab_type": "code",
        "colab": {}
      },
      "cell_type": "code",
      "source": [
        "DATA_FOLDER = './data/'\n"
      ],
      "execution_count": 0,
      "outputs": []
    },
    {
      "metadata": {
        "id": "xmVDwBcm245J",
        "colab_type": "text"
      },
      "cell_type": "markdown",
      "source": [
        "## LOAD Data and transform"
      ]
    },
    {
      "metadata": {
        "id": "3J8QcaJm26b8",
        "colab_type": "code",
        "colab": {
          "base_uri": "https://localhost:8080/",
          "height": 119
        },
        "outputId": "4df21af0-ce81-46e5-f9d7-3826ddb36b68"
      },
      "cell_type": "code",
      "source": [
        "def mnist_data():\n",
        "    compose = transforms.Compose(\n",
        "        [transforms.ToTensor(),\n",
        "         transforms.Normalize((.5, .5, .5), (.5, .5, .5))\n",
        "        ])\n",
        "    out_dir = '{}/dataset'.format(DATA_FOLDER)\n",
        "    return datasets.MNIST(root=out_dir, train=True, transform=compose, download=True)\n",
        "  \n",
        "## Create data loader, so that we can iterate over the data\n",
        "# Load data\n",
        "data = mnist_data()\n",
        "# Create loader with data, so that we can iterate over it\n",
        "data_loader = torch.utils.data.DataLoader(data, batch_size=100, shuffle=True)\n",
        "# Num batches\n",
        "num_batches = len(data_loader)\n",
        "  "
      ],
      "execution_count": 19,
      "outputs": [
        {
          "output_type": "stream",
          "text": [
            "Downloading http://yann.lecun.com/exdb/mnist/train-images-idx3-ubyte.gz\n",
            "Downloading http://yann.lecun.com/exdb/mnist/train-labels-idx1-ubyte.gz\n",
            "Downloading http://yann.lecun.com/exdb/mnist/t10k-images-idx3-ubyte.gz\n",
            "Downloading http://yann.lecun.com/exdb/mnist/t10k-labels-idx1-ubyte.gz\n",
            "Processing...\n",
            "Done!\n"
          ],
          "name": "stdout"
        }
      ]
    },
    {
      "metadata": {
        "id": "lnIyApMu5ahy",
        "colab_type": "text"
      },
      "cell_type": "markdown",
      "source": [
        "#Build Networks\n",
        "\n",
        "Now build networks - Generator and Discriminator\n",
        "\n",
        "Discriminator\n",
        "Generator"
      ]
    },
    {
      "metadata": {
        "id": "yGsIerVX3xnP",
        "colab_type": "code",
        "colab": {}
      },
      "cell_type": "code",
      "source": [
        "class DiscriminatorNet(nn.Module):\n",
        "  '''\n",
        "  three layer network\n",
        "  '''\n",
        "  def __init__(self):\n",
        "    super(DiscriminatorNet,self).__init__()\n",
        "    n_features = 784\n",
        "    n_out = 1\n",
        "    \n",
        "    self.hidden0 = nn.Sequential( \n",
        "            nn.Linear(n_features, 1024),\n",
        "            nn.LeakyReLU(0.2),\n",
        "            nn.Dropout(0.3))\n",
        "    self.hidden1 = nn.Sequential(\n",
        "            nn.Linear(1024, 512),\n",
        "            nn.LeakyReLU(0.2),\n",
        "            nn.Dropout(0.3))\n",
        "    self.hidden2 = nn.Sequential(\n",
        "            nn.Linear(512, 256),\n",
        "            nn.LeakyReLU(0.2),\n",
        "            nn.Dropout(0.3))\n",
        "    \n",
        "    self.out = nn.Sequential(torch.nn.Linear(256,n_out),torch.nn.Sigmoid())\n",
        "   \n",
        "  def forward(self,x):\n",
        "    x = self.hidden0(x)\n",
        "    x = self.hidden1(x)\n",
        "    x = self.hidden2(x)\n",
        "    x = self.out(x)\n",
        "    return x\n",
        "  \n",
        "def images_to_vectors(images):\n",
        "  return images.view(images.size(0), 784)\n",
        "  \n",
        "def vectors_to_images(vectors):\n",
        "  return vectors.view(vectors.size(0), 1, 28, 28)\n",
        "    \n",
        "    "
      ],
      "execution_count": 0,
      "outputs": []
    },
    {
      "metadata": {
        "id": "03jlEH7_6CD9",
        "colab_type": "code",
        "colab": {}
      },
      "cell_type": "code",
      "source": [
        "class GeneratorNet(torch.nn.Module):\n",
        "    \"\"\"\n",
        "    A three hidden-layer generative neural network\n",
        "    \"\"\"\n",
        "    def __init__(self):\n",
        "        super(GeneratorNet, self).__init__()\n",
        "        n_features = 100\n",
        "        n_out = 784\n",
        "        \n",
        "        self.hidden0 = nn.Sequential(\n",
        "            nn.Linear(n_features, 256),\n",
        "            nn.LeakyReLU(0.2)\n",
        "        )\n",
        "        self.hidden1 = nn.Sequential(            \n",
        "            nn.Linear(256, 512),\n",
        "            nn.LeakyReLU(0.2)\n",
        "        )\n",
        "        self.hidden2 = nn.Sequential(\n",
        "            nn.Linear(512, 1024),\n",
        "            nn.LeakyReLU(0.2)\n",
        "        )\n",
        "        \n",
        "        self.out = nn.Sequential(\n",
        "            nn.Linear(1024, n_out),\n",
        "            nn.Tanh()\n",
        "        )\n",
        "\n",
        "    def forward(self, x):\n",
        "        x = self.hidden0(x)\n",
        "        x = self.hidden1(x)\n",
        "        x = self.hidden2(x)\n",
        "        x = self.out(x)\n",
        "        return x\n",
        "  \n",
        "## Generate Noise - vector\n",
        "def noise(size):\n",
        "  n = Variable(torch.randn(size, 100))\n",
        "  if torch.cuda.is_available():\n",
        "    return n.cuda() \n",
        "  return n"
      ],
      "execution_count": 0,
      "outputs": []
    },
    {
      "metadata": {
        "id": "R5fG1x1P6Kiv",
        "colab_type": "code",
        "colab": {}
      },
      "cell_type": "code",
      "source": [
        "discriminator = DiscriminatorNet()\n",
        "generator = GeneratorNet()\n",
        "if torch.cuda.is_available():\n",
        "  discriminator.cuda()\n",
        "  generator.cuda()"
      ],
      "execution_count": 0,
      "outputs": []
    },
    {
      "metadata": {
        "id": "TXaMY1LD6uNd",
        "colab_type": "code",
        "colab": {}
      },
      "cell_type": "code",
      "source": [
        ""
      ],
      "execution_count": 0,
      "outputs": []
    },
    {
      "metadata": {
        "id": "YtCdAdPs61Dl",
        "colab_type": "text"
      },
      "cell_type": "markdown",
      "source": [
        "# Optimization for the networks"
      ]
    },
    {
      "metadata": {
        "id": "EZNv1PC5626j",
        "colab_type": "code",
        "colab": {}
      },
      "cell_type": "code",
      "source": [
        "# optimizers\n",
        "lr  = 0.002\n",
        "d_optimizer = optim.Adam(discriminator.parameters(),lr=lr)\n",
        "g_optimizer = optim.Adam(generator.parameters(),lr=lr)\n",
        "\n",
        "## Loss function\n",
        "loss = nn.BCELoss()\n",
        "\n",
        "# Number of steps to apply to the discriminator\n",
        "d_steps = 1  # In Goodfellow et. al 2014 this variable is assigned to 1\n",
        "# Number of epochs\n",
        "num_epochs = 200\n",
        "\n",
        "\n"
      ],
      "execution_count": 0,
      "outputs": []
    },
    {
      "metadata": {
        "id": "OOjrdhrF7Kbm",
        "colab_type": "text"
      },
      "cell_type": "markdown",
      "source": [
        "# Training"
      ]
    },
    {
      "metadata": {
        "id": "7Ji5V6fK7LRH",
        "colab_type": "code",
        "colab": {}
      },
      "cell_type": "code",
      "source": [
        "def real_data_target(size):\n",
        "  data = Variable(torch.ones(size,1))\n",
        "  if torch.cuda.is_available():return data.cuda()\n",
        "  return data\n",
        "\n",
        "def fake_data_target(size):\n",
        "  data = Variable(torch.zeros(size,1))\n",
        "  if torch.cuda.is_available():return data.cuda()\n",
        "  return data\n"
      ],
      "execution_count": 0,
      "outputs": []
    },
    {
      "metadata": {
        "id": "x-4yS5Ms7laM",
        "colab_type": "code",
        "colab": {}
      },
      "cell_type": "code",
      "source": [
        ""
      ],
      "execution_count": 0,
      "outputs": []
    },
    {
      "metadata": {
        "id": "tx-ndDqC7m8B",
        "colab_type": "text"
      },
      "cell_type": "markdown",
      "source": [
        "## Train Discriminator"
      ]
    },
    {
      "metadata": {
        "id": "-DgDdkom7pHN",
        "colab_type": "code",
        "colab": {}
      },
      "cell_type": "code",
      "source": [
        "def train_discriminator(optimizer,real_data, fake_data):\n",
        "  ## reset gradients:\n",
        "  optimizer.zero_grad()\n",
        "  \n",
        "  ## Train on real data\n",
        "  prediction_real = discriminator(real_data)\n",
        "  prediction_fake = discriminator(fake_data)\n",
        "  \n",
        "  # calculate error\n",
        "  real_error = loss(prediction_real,real_data_target(real_data.size(0)))\n",
        "  real_error.backward()\n",
        "  \n",
        "  # Fake error\n",
        "  fake_error = loss(prediction_fake,fake_data_target(fake_data.size(0)))\n",
        "  fake_error.backward()\n",
        "  \n",
        "  # 1.3 Update weights with gradients\n",
        "  optimizer.step()\n",
        "  \n",
        "  \n",
        "  # Return error - total error - error from real and error from fake\n",
        "  return real_error + fake_error, prediction_real, prediction_fake\n",
        "\n",
        "\n",
        "\n",
        "  \n",
        "  "
      ],
      "execution_count": 0,
      "outputs": []
    },
    {
      "metadata": {
        "id": "0WtdH1AJ8j7d",
        "colab_type": "code",
        "colab": {}
      },
      "cell_type": "code",
      "source": [
        ""
      ],
      "execution_count": 0,
      "outputs": []
    },
    {
      "metadata": {
        "id": "VQP_tj5e8kl6",
        "colab_type": "text"
      },
      "cell_type": "markdown",
      "source": [
        "# Train Generator"
      ]
    },
    {
      "metadata": {
        "id": "dTMy4Vn18mSN",
        "colab_type": "code",
        "colab": {}
      },
      "cell_type": "code",
      "source": [
        "def train_generator(optimizer, fake_data):\n",
        "  # optimizer - reset\n",
        "  optimizer.zero_grad()\n",
        "  \n",
        "  # Sample noise and generate fake data\n",
        "  prediction = discriminator(fake_data)\n",
        "  \n",
        "  # calculate error - output of discriminator - always 1\n",
        "  error = loss(prediction, real_data_target(prediction.size(0)))\n",
        "  \n",
        "  error.backward()\n",
        "  #update weights\n",
        "  optimizer.step()\n",
        "  \n",
        "  return error\n",
        "  "
      ],
      "execution_count": 0,
      "outputs": []
    },
    {
      "metadata": {
        "id": "8TGrkVkz9Kxu",
        "colab_type": "code",
        "colab": {}
      },
      "cell_type": "code",
      "source": [
        ""
      ],
      "execution_count": 0,
      "outputs": []
    },
    {
      "metadata": {
        "id": "qRM3uix19LpV",
        "colab_type": "text"
      },
      "cell_type": "markdown",
      "source": [
        "# Generate Samples"
      ]
    },
    {
      "metadata": {
        "id": "hCle474B9N_y",
        "colab_type": "code",
        "colab": {
          "base_uri": "https://localhost:8080/",
          "height": 170
        },
        "outputId": "ff2b4e97-6542-4f69-f752-c0f13be569f9"
      },
      "cell_type": "code",
      "source": [
        "num_test_samples = 16\n",
        "test_noise = noise(num_test_samples)\n",
        "test_noise"
      ],
      "execution_count": 34,
      "outputs": [
        {
          "output_type": "execute_result",
          "data": {
            "text/plain": [
              "Variable containing:\n",
              " 0.1629 -0.3510  1.4269  ...  -0.4648 -0.7415 -0.9043\n",
              "-0.8678  0.2356  0.3607  ...   0.7040 -0.0675  0.5556\n",
              " 1.1669  0.2633 -0.7186  ...  -0.0106 -0.6121  0.2392\n",
              "          ...             ⋱             ...          \n",
              " 0.5922  1.2558 -0.6858  ...   0.7149 -2.0472  0.2503\n",
              "-1.5250 -0.7318  1.3199  ...   0.0574  0.8079  0.1525\n",
              "-0.6329  0.9795  0.0675  ...  -0.5453 -0.9197  0.9065\n",
              "[torch.cuda.FloatTensor of size 16x100 (GPU 0)]"
            ]
          },
          "metadata": {
            "tags": []
          },
          "execution_count": 34
        }
      ]
    },
    {
      "metadata": {
        "id": "haP7Xbib9Tc5",
        "colab_type": "text"
      },
      "cell_type": "markdown",
      "source": [
        "## Start Training"
      ]
    },
    {
      "metadata": {
        "id": "sdL_8sNw9QAQ",
        "colab_type": "code",
        "colab": {}
      },
      "cell_type": "code",
      "source": [
        "logger = Logger(model_name='VGAN', data_name='MNIST')\n"
      ],
      "execution_count": 0,
      "outputs": []
    },
    {
      "metadata": {
        "id": "BwK0tYSt9cWg",
        "colab_type": "code",
        "colab": {
          "base_uri": "https://localhost:8080/",
          "height": 299
        },
        "outputId": "3194208e-0614-4e79-e33c-14429dad17ba"
      },
      "cell_type": "code",
      "source": [
        "for epoch in range(num_epochs):\n",
        "  for n_batch, (real_batch,_) in enumerate(data_loader):\n",
        "    \n",
        "    # Train discriminator\n",
        "    real_data = Variable(images_to_vectors(real_batch))\n",
        "    if torch.cuda.is_available(): real_data = real_data.cuda()\n",
        "    \n",
        "    # Generate fake data\n",
        "    fake_data = generator(noise(real_data.size(0))).detach()\n",
        "    \n",
        "    # Train D\n",
        "    d_error, d_pred_real, d_pred_fake = train_discriminator(d_optimizer,\n",
        "                                                                real_data, fake_data)\n",
        " \n",
        "    ## 2. Train Generator\n",
        "    # generate fake data\n",
        "    fake_data = generator(noise(real_batch.size(0)))\n",
        "    \n",
        "    \n",
        "    # Train G\n",
        "    g_error = train_generator(g_optimizer, fake_data)\n",
        "    \n",
        "    # Log error\n",
        "    logger.log(d_error, g_error, epoch, n_batch, num_batches)\n",
        "    \n",
        "    \n",
        "    # Display progress\n",
        "    \n",
        "    if (n_batch)%100 ==0:\n",
        "      display.clear_output(True)\n",
        "      \n",
        "      # Display Images\n",
        "      \n",
        "      test_images = vectors_to_images(generator(test_noise)).data.cpu()\n",
        "      logger.log_images(test_images, num_test_samples, epoch, n_batch, num_batches)\n",
        "      \n",
        "      \n",
        "      \n",
        "      \n",
        "    # Model checkpoints\n",
        "    # Model Checkpoints\n",
        "    logger.save_models(generator, discriminator, epoch)\n",
        "    \n",
        "    \n",
        "    \n",
        "  "
      ],
      "execution_count": 0,
      "outputs": [
        {
          "output_type": "display_data",
          "data": {
            "image/png": "[encoded data removed]",
            "text/plain": [
              "<matplotlib.figure.Figure at 0x7fa4f66114e0>"
            ]
          },
          "metadata": {
            "tags": []
          }
        }
      ]
    },
    {
      "metadata": {
        "id": "1J47G93c-h81",
        "colab_type": "code",
        "colab": {}
      },
      "cell_type": "code",
      "source": [
        ""
      ],
      "execution_count": 0,
      "outputs": []
    }
  ]
}